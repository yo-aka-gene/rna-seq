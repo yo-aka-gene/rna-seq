{
 "cells": [
  {
   "cell_type": "markdown",
   "metadata": {},
   "source": [
    "### Independent Component Analysis\n",
    "----\n",
    "#### 1.任意の遺伝子を2つ直交座標系で表現するグラフを作る\n",
    "#### 2.任意の関数をプロットする\n",
    "#### 3.ICAの結果について線形回帰"
   ]
  },
  {
   "cell_type": "code",
   "execution_count": 1,
   "metadata": {},
   "outputs": [],
   "source": [
    "# Import Library\n",
    "\n",
    "import seaborn as sns\n",
    "import pandas as pd\n",
    "import numpy as np\n",
    "import matplotlib as mpl\n",
    "import matplotlib.pyplot as plt"
   ]
  },
  {
   "cell_type": "code",
   "execution_count": 2,
   "metadata": {},
   "outputs": [],
   "source": [
    "# Set Config\n",
    "CONFIG = {\n",
    "    \"data_dir\": \"./sample_vs_gene_MG.csv\"\n",
    "    , \"genes\": [\"HK1\", \"HK2\"]\n",
    "    , \"size\": (4, 4)\n",
    "    , \"x\": np.linspace(0, 10, 1000)\n",
    "    , \"values\": (1, 0)\n",
    "    , \"color\": sns.diverging_palette(255, 10, l=50, s=100, n=40, center=\"dark\")\n",
    "    , \"cbar\": {\"shrink\": .7}\n",
    "}"
   ]
  },
  {
   "cell_type": "code",
   "execution_count": 3,
   "metadata": {},
   "outputs": [],
   "source": [
    "# Load Data\n",
    "rawdata = pd.read_csv(CONFIG['data_dir'], index_col=0)"
   ]
  },
  {
   "cell_type": "code",
   "execution_count": 4,
   "metadata": {},
   "outputs": [],
   "source": [
    "# Shape Data\n",
    "data = np.log2(rawdata+1).sort_index()\n",
    "data.index.name=None"
   ]
  },
  {
   "cell_type": "code",
   "execution_count": 5,
   "metadata": {},
   "outputs": [
    {
     "data": {
      "text/html": [
       "<div>\n",
       "<style scoped>\n",
       "    .dataframe tbody tr th:only-of-type {\n",
       "        vertical-align: middle;\n",
       "    }\n",
       "\n",
       "    .dataframe tbody tr th {\n",
       "        vertical-align: top;\n",
       "    }\n",
       "\n",
       "    .dataframe thead th {\n",
       "        text-align: right;\n",
       "    }\n",
       "</style>\n",
       "<table border=\"1\" class=\"dataframe\">\n",
       "  <thead>\n",
       "    <tr style=\"text-align: right;\">\n",
       "      <th></th>\n",
       "      <th>HK1</th>\n",
       "      <th>HK2</th>\n",
       "    </tr>\n",
       "  </thead>\n",
       "  <tbody>\n",
       "    <tr>\n",
       "      <th>HK1</th>\n",
       "      <td>1.000000</td>\n",
       "      <td>-0.151234</td>\n",
       "    </tr>\n",
       "    <tr>\n",
       "      <th>HK2</th>\n",
       "      <td>-0.151234</td>\n",
       "      <td>1.000000</td>\n",
       "    </tr>\n",
       "  </tbody>\n",
       "</table>\n",
       "</div>"
      ],
      "text/plain": [
       "          HK1       HK2\n",
       "HK1  1.000000 -0.151234\n",
       "HK2 -0.151234  1.000000"
      ]
     },
     "execution_count": 5,
     "metadata": {},
     "output_type": "execute_result"
    }
   ],
   "source": [
    "# Select genes as the 2 axes\n",
    "df = data.loc[:, CONFIG[\"genes\"]]\n",
    "\n",
    "cor=df.corr()\n",
    "cor"
   ]
  },
  {
   "cell_type": "code",
   "execution_count": 6,
   "metadata": {},
   "outputs": [],
   "source": [
    "# Defining the cueve\n",
    "x = CONFIG['x']\n",
    "y = CONFIG['values'][0] * x + CONFIG['values'][1]"
   ]
  },
  {
   "cell_type": "code",
   "execution_count": 7,
   "metadata": {},
   "outputs": [
    {
     "data": {
      "image/png": "[encoded data removed]",
      "text/plain": [
       "<Figure size 288x288 with 1 Axes>"
      ]
     },
     "metadata": {
      "needs_background": "light"
     },
     "output_type": "display_data"
    }
   ],
   "source": [
    "# Plot\n",
    "plt.figure(figsize=CONFIG[\"size\"])\n",
    "plt.plot(x, y, label='y=x', color='k', linewidth=1, linestyle='solid')\n",
    "sns.scatterplot(x=CONFIG[\"genes\"][0], y=CONFIG[\"genes\"][1], data=df, hue=df.index)\n",
    "plt.xlabel(f\"log2({CONFIG['genes'][0]}+1)\")\n",
    "plt.ylabel(f\"log2({CONFIG['genes'][1]}+1)\")\n",
    "plt.title(f\"{CONFIG['genes'][0]} v.s. {CONFIG['genes'][1]}\")\n",
    "plt.savefig(f\"./{CONFIG['genes'][0]}_vs_{CONFIG['genes'][1]}.png\", facecolor=\"white\", dpi=300, bbox_inches=\"tight\", pad_inches=0.05)"
   ]
  },
  {
   "cell_type": "code",
   "execution_count": 8,
   "metadata": {},
   "outputs": [
    {
     "data": {
      "text/plain": [
       "<Figure size 288x288 with 0 Axes>"
      ]
     },
     "metadata": {},
     "output_type": "display_data"
    },
    {
     "data": {
      "image/png": "[encoded data removed]",
      "text/plain": [
       "<Figure size 360x360 with 1 Axes>"
      ]
     },
     "metadata": {
      "needs_background": "light"
     },
     "output_type": "display_data"
    }
   ],
   "source": [
    "# Linear regression\n",
    "\n",
    "# このデータセットでは全く意味ない\n",
    "\n",
    "plt.figure(figsize=CONFIG[\"size\"])\n",
    "sns.lmplot(x=CONFIG[\"genes\"][0], y=CONFIG[\"genes\"][1], data=df, fit_reg=True, truncate=True, legend=True)\n",
    "plt.xlim(0, 10)\n",
    "plt.ylim(0, 10)\n",
    "plt.xlabel(f\"log2({CONFIG['genes'][0]}+1)\")\n",
    "plt.ylabel(f\"log2({CONFIG['genes'][1]}+1)\")\n",
    "plt.title(f\"{CONFIG['genes'][0]} v.s. {CONFIG['genes'][1]}\")\n",
    "plt.savefig(f\"./{CONFIG['genes'][0]}_vs_{CONFIG['genes'][1]}_reg.png\", facecolor=\"white\", dpi=300, bbox_inches=\"tight\", pad_inches=0.05)"
   ]
  },
  {
   "cell_type": "code",
   "execution_count": 13,
   "metadata": {},
   "outputs": [
    {
     "data": {
      "text/html": [
       "<div>\n",
       "<style scoped>\n",
       "    .dataframe tbody tr th:only-of-type {\n",
       "        vertical-align: middle;\n",
       "    }\n",
       "\n",
       "    .dataframe tbody tr th {\n",
       "        vertical-align: top;\n",
       "    }\n",
       "\n",
       "    .dataframe thead th {\n",
       "        text-align: right;\n",
       "    }\n",
       "</style>\n",
       "<table border=\"1\" class=\"dataframe\">\n",
       "  <thead>\n",
       "    <tr style=\"text-align: right;\">\n",
       "      <th></th>\n",
       "      <th>PCA1</th>\n",
       "      <th>PCA2</th>\n",
       "    </tr>\n",
       "  </thead>\n",
       "  <tbody>\n",
       "    <tr>\n",
       "      <th>PCA1</th>\n",
       "      <td>1.000000e+00</td>\n",
       "      <td>3.435625e-17</td>\n",
       "    </tr>\n",
       "    <tr>\n",
       "      <th>PCA2</th>\n",
       "      <td>3.435625e-17</td>\n",
       "      <td>1.000000e+00</td>\n",
       "    </tr>\n",
       "  </tbody>\n",
       "</table>\n",
       "</div>"
      ],
      "text/plain": [
       "              PCA1          PCA2\n",
       "PCA1  1.000000e+00  3.435625e-17\n",
       "PCA2  3.435625e-17  1.000000e+00"
      ]
     },
     "execution_count": 13,
     "metadata": {},
     "output_type": "execute_result"
    }
   ],
   "source": [
    "#Load Data\n",
    "df2 = pd.read_csv(\"PCAed_data.csv\", index_col=0).iloc[:, 0:2]\n",
    "\n",
    "cord = df2.corr()\n",
    "\n",
    "cord"
   ]
  },
  {
   "cell_type": "code",
   "execution_count": null,
   "metadata": {},
   "outputs": [],
   "source": []
  }
 ],
 "metadata": {
  "kernelspec": {
   "display_name": "Python 3",
   "language": "python",
   "name": "python3"
  },
  "language_info": {
   "codemirror_mode": {
    "name": "ipython",
    "version": 3
   },
   "file_extension": ".py",
   "mimetype": "text/x-python",
   "name": "python",
   "nbconvert_exporter": "python",
   "pygments_lexer": "ipython3",
   "version": "3.7.3"
  }
 },
 "nbformat": 4,
 "nbformat_minor": 4
}
